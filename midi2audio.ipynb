{
 "cells": [
  {
   "cell_type": "markdown",
   "metadata": {},
   "source": [
    "Known issues: <br>\n",
    "-Lots of soundfonts don't play on FluidSynth, but works in a sfz/sf2 player. This includes: <br>\n",
    "drums not working <br>\n",
    "bass guitar not working (currently substituting a regular acoustic guitar for the bass sound) <br>\n",
    "\n",
    "-Gain not adjustable, doesn't seem like midi2audio can pass gain options to FluidSynth <br>\n"
   ]
  },
  {
   "cell_type": "code",
   "execution_count": 1,
   "metadata": {},
   "outputs": [],
   "source": [
    "from midi2audio import FluidSynth\n",
    "from mido import MidiFile\n",
    "import numpy as np\n",
    "from scipy.io.wavfile import read, write\n",
    "from IPython.display import Audio"
   ]
  },
  {
   "cell_type": "code",
   "execution_count": 2,
   "metadata": {
    "scrolled": true
   },
   "outputs": [
    {
     "data": {
      "text/plain": [
       "'C:\\\\Users\\\\Shawn\\\\Documents\\\\Georgia Tech\\\\MUSI 2526\\\\Melception'"
      ]
     },
     "execution_count": 2,
     "metadata": {},
     "output_type": "execute_result"
    }
   ],
   "source": [
    "#For current working directory\n",
    "import os \n",
    "cwd = os.getcwd()\n",
    "cwd"
   ]
  },
  {
   "cell_type": "code",
   "execution_count": null,
   "metadata": {},
   "outputs": [],
   "source": [
    "# Default filepath and soundfonts\n",
    "filepath = 'MIDI\\\\seven_nation_army+1.mid'\n",
    "soundfont = 'SoundFonts\\\\piano.sf2'    \n",
    "fs = FluidSynth(sound_font=soundfont) #create fs object with designated soundfont"
   ]
  },
  {
   "cell_type": "code",
   "execution_count": null,
   "metadata": {},
   "outputs": [],
   "source": [
    "# Play MIDI using selected soundfont above\n",
    "FluidSynth(sound_font=soundfont).play_midi(filepath)"
   ]
  },
  {
   "cell_type": "markdown",
   "metadata": {},
   "source": [
    "# Splitting MIDI"
   ]
  },
  {
   "cell_type": "markdown",
   "metadata": {},
   "source": [
    "#### MIDI split function"
   ]
  },
  {
   "cell_type": "code",
   "execution_count": 3,
   "metadata": {},
   "outputs": [],
   "source": [
    "def midi_to_audio(input_midi):\n",
    "    try:\n",
    "        # Initialize a list to hold the individual track variables\n",
    "        tracks = []\n",
    "        \n",
    "        # Initialize program_number for use later\n",
    "        program_number = None\n",
    "        \n",
    "        # Load MIDI file using mido.MidiFile\n",
    "        mid = MidiFile(input_midi)\n",
    "\n",
    "        # Iterate through each MIDI track and save as .mid and varaiable\n",
    "        for i, track in enumerate(mid.tracks):\n",
    "            # Save tracks to separate MIDI files\n",
    "            output_midi = f\"track_{i}.mid\"\n",
    "            mid_new = MidiFile(ticks_per_beat=mid.ticks_per_beat)\n",
    "            mid_new.tracks.append(track)\n",
    "            mid_new.save(output_midi)\n",
    "            \n",
    "            # Store tracks to separate variables\n",
    "            globals()[f'track_{i}'] = mid_new\n",
    "            \n",
    "            # Print confirmation\n",
    "            print(f\"Track {i} saved as {output_midi} and as the variable track_{i}\")\n",
    "            \n",
    "            \n",
    "            # Check through each track for the program number            \n",
    "            for msg in mid_new:\n",
    "                if msg.type == 'program_change':\n",
    "                    program_number = msg.program\n",
    "                    break\n",
    "                \n",
    "            # Determine which instrument to use. If program is None then skip\n",
    "            if program_number is not None:\n",
    "                soundfont = timbre(program_number)\n",
    "                fs = FluidSynth(sound_font=soundfont)\n",
    "                \n",
    "                # Output to wav file\n",
    "                output_file = f\"track_{i}.wav\"\n",
    "                fs.midi_to_audio(f'track_{i}.mid', output_file)\n",
    "                # Print confirmation\n",
    "                print(f\"Track {i} saved as track_{i}.wav\")\n",
    "        \n",
    "        #Combine all audio to one single wav file\n",
    "        combined_samples, wav_data, sample_rates = combine_audio(mid)\n",
    "        write(f'{input_midi}.wav', sample_rates[0], combined_samples)\n",
    "        print(f\"{input_midi} saved as {input_midi}.wav\")\n",
    "        \n",
    "    except Exception as e:\n",
    "        print(f\"Error: {e}\")"
   ]
  },
  {
   "cell_type": "code",
   "execution_count": 4,
   "metadata": {},
   "outputs": [],
   "source": [
    "# Use program number to determine which instrument soundfont to use\n",
    "def timbre(program_number):\n",
    "\n",
    "    if program_number >=0 and program_number <=7: #Piano Timbres in MIDI are programs 0-7\n",
    "        soundfont = 'SoundFonts\\\\piano_steinway_grand.sf2'\n",
    "        \n",
    "    elif program_number >=8 and program_number <=15: #Chromatic Percussion in MIDI are programs 8-15\n",
    "        soundfont = 'SoundFonts\\\\glockenspiel.sf2' \n",
    "        \n",
    "#     elif program_number >=16 and program_number <=23: #Organ Timbres in MIDI are programs 16-23\n",
    "#         soundfont = 'SoundFonts\\\\piano.sf2' \n",
    "\n",
    "    elif program_number >=24 and program_number <=31: #Guitar Timbres in MIDI are programs 24-31\n",
    "        soundfont = 'SoundFonts\\\\guitar_universal.sf2' \n",
    "\n",
    "    elif program_number >=32 and program_number <=39: #Bass Timbres in MIDI are programs 32-39\n",
    "        soundfont = 'SoundFonts\\\\guitar_universal.sf2' \n",
    "        \n",
    "#     elif program_number >=40 and program_number <=47: #String Timbres in MIDI are programs 40-47\n",
    "#         soundfont = 'SoundFonts\\\\cello.sf2'\n",
    "\n",
    "    elif program_number >=48 and program_number <=55: #Ensemble Timbres in MIDI are programs 48-55\n",
    "        soundfont = 'SoundFonts\\\\strings_violin.sf2'\n",
    "\n",
    "#     elif program_number >=56 and program_number <=63: #Brass Timbres in MIDI are programs 56-63\n",
    "#         soundfont = 'SoundFonts\\\\piano.sf2'\n",
    "\n",
    "#     elif program_number >=64 and program_number <=71: #Reed Timbres in MIDI are programs 64-71\n",
    "#         soundfont = 'SoundFonts\\\\piano.sf2'\n",
    "\n",
    "    elif program_number >=72 and program_number <=79: #Pipe Timbres in MIDI are programs 72-79\n",
    "        soundfont = 'SoundFonts\\\\flute.sf2'\n",
    "\n",
    "#     elif program_number >=80 and program_number <=87: #Synth Lead in MIDI are programs 80-87\n",
    "#         soundfont = 'SoundFonts\\\\piano.sf2'\n",
    "\n",
    "#     elif program_number >=88 and program_number <=95: #Synth Pad in MIDI are programs 88-95\n",
    "#         soundfont = 'SoundFonts\\\\piano.sf2'\n",
    "\n",
    "    else:\n",
    "        print(f\"Error: Timbre not yet supported\")\n",
    "        \n",
    "    return soundfont"
   ]
  },
  {
   "cell_type": "code",
   "execution_count": 5,
   "metadata": {},
   "outputs": [],
   "source": [
    "def normalize(samples):\n",
    "    # Find the maximum absolute value in the samples\n",
    "    max_val = np.max(np.abs(samples))\n",
    "    # Scale samples to the range of int16\n",
    "    if max_val > 0:\n",
    "        samples = samples / max_val * 32767\n",
    "    return samples.astype(np.int16)"
   ]
  },
  {
   "cell_type": "code",
   "execution_count": 6,
   "metadata": {},
   "outputs": [],
   "source": [
    "def pad_audio(samples, target_length):\n",
    "    if len(samples) < target_length:\n",
    "        pad_length = target_length - len(samples)\n",
    "        samples = np.pad(samples, (0, pad_length), 'constant')\n",
    "    return samples"
   ]
  },
  {
   "cell_type": "code",
   "execution_count": 7,
   "metadata": {},
   "outputs": [],
   "source": [
    "def combine_audio(mid):\n",
    "    \n",
    "    wav_data = []\n",
    "    sample_rates = []\n",
    "    max_length = 0\n",
    "    \n",
    "    # Iterate through all available tracks\n",
    "    for i, track in enumerate(mid.tracks[1:], start=1):\n",
    "        fs, x = read(f\"track_{i}.wav\") #Read wav file\n",
    "        x = x[:,0] #Make audio mono\n",
    "        wav_data.append(x) #Add to wav_data array of all audio samples\n",
    "        sample_rates.append(fs) #Add to sample_rates array of all sample rates\n",
    "        if len(x) > max_length:\n",
    "            max_length = len(x)\n",
    "    \n",
    "    # Pad all WAV files to the maximum length\n",
    "    for i in range(len(wav_data)):\n",
    "        wav_data[i] = pad_audio(wav_data[i], max_length)\n",
    "    \n",
    "    # Combine the WAV files\n",
    "    combined_samples = np.sum(wav_data, axis=0)\n",
    "    combined_samples = normalize(combined_samples)\n",
    "    \n",
    "    # Write the combined samples to the output file\n",
    "    write('output.wav', sample_rates[0], combined_samples)\n",
    "    \n",
    "    return combined_samples, wav_data, sample_rates"
   ]
  },
  {
   "cell_type": "code",
   "execution_count": 8,
   "metadata": {},
   "outputs": [
    {
     "name": "stdout",
     "output_type": "stream",
     "text": [
      "Track 0 saved as track_0.mid and as the variable track_0\n",
      "Track 1 saved as track_1.mid and as the variable track_1\n",
      "Track 1 saved as track_1.wav\n",
      "Track 2 saved as track_2.mid and as the variable track_2\n",
      "Track 2 saved as track_2.wav\n",
      "Track 3 saved as track_3.mid and as the variable track_3\n",
      "Track 3 saved as track_3.wav\n",
      "Track 4 saved as track_4.mid and as the variable track_4\n",
      "Track 4 saved as track_4.wav\n",
      "Track 5 saved as track_5.mid and as the variable track_5\n",
      "Track 5 saved as track_5.wav\n",
      "Track 6 saved as track_6.mid and as the variable track_6\n",
      "Track 6 saved as track_6.wav\n",
      "MIDI\\honestly_result_flute.mid saved as MIDI\\honestly_result_flute.mid.wav\n"
     ]
    }
   ],
   "source": [
    "#Testing\n",
    "input_midi = 'MIDI\\\\honestly_result_flute.mid'  # Replace with your input MIDI file\n",
    "midi_to_audio(input_midi)"
   ]
  },
  {
   "cell_type": "code",
   "execution_count": null,
   "metadata": {},
   "outputs": [],
   "source": []
  }
 ],
 "metadata": {
  "celltoolbar": "Slideshow",
  "kernelspec": {
   "display_name": "Python 3 (ipykernel)",
   "language": "python",
   "name": "python3"
  },
  "language_info": {
   "codemirror_mode": {
    "name": "ipython",
    "version": 3
   },
   "file_extension": ".py",
   "mimetype": "text/x-python",
   "name": "python",
   "nbconvert_exporter": "python",
   "pygments_lexer": "ipython3",
   "version": "3.9.9"
  }
 },
 "nbformat": 4,
 "nbformat_minor": 2
}
